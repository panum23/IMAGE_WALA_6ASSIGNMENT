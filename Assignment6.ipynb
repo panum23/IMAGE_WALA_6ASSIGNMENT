{
  "nbformat": 4,
  "nbformat_minor": 0,
  "metadata": {
    "colab": {
      "provenance": [],
      "gpuType": "V28"
    },
    "kernelspec": {
      "name": "python3",
      "display_name": "Python 3"
    },
    "language_info": {
      "name": "python"
    },
    "accelerator": "TPU"
  },
  "cells": [
    {
      "cell_type": "code",
      "execution_count": null,
      "metadata": {
        "id": "-gp41qwKKF9a"
      },
      "outputs": [],
      "source": [
        "from tensorflow.keras.preprocessing.image import load_img\n",
        "from tensorflow.keras.preprocessing.image import img_to_array\n",
        "from tensorflow.keras.models import load_model\n",
        "from keras.applications.vgg16 import VGG16\n",
        "from keras.applications.vgg16 import preprocess_input\n",
        "import numpy as np\n",
        "from keras.applications.vgg16 import decode_predictions"
      ]
    },
    {
      "cell_type": "code",
      "source": [
        "image=load_img('download1.jpg',target_size=(224,224))\n",
        "image=img_to_array(image)\n",
        "image=image.reshape((1,image.shape[0],image.shape[1],image.shape[2]))\n",
        "image=preprocess_input(image)\n",
        "model=VGG16()\n",
        "yhat=model.predict(image)\n",
        "label=decode_predictions(yhat)\n",
        "label=label[0][0]\n",
        "print('%s'%(label[1]))"
      ],
      "metadata": {
        "id": "nNL01dz3Mi-h",
        "colab": {
          "base_uri": "https://localhost:8080/"
        },
        "outputId": "4e44d5f5-996c-47a2-9451-971b5fd0ee43"
      },
      "execution_count": null,
      "outputs": [
        {
          "output_type": "stream",
          "name": "stdout",
          "text": [
            "Downloading data from https://storage.googleapis.com/tensorflow/keras-applications/vgg16/vgg16_weights_tf_dim_ordering_tf_kernels.h5\n",
            "553467096/553467096 [==============================] - 2s 0us/step\n",
            "1/1 [==============================] - 0s 327ms/step\n",
            "Downloading data from https://storage.googleapis.com/download.tensorflow.org/data/imagenet_class_index.json\n",
            "35363/35363 [==============================] - 0s 0us/step\n",
            "castle\n"
          ]
        }
      ]
    },
    {
      "cell_type": "code",
      "source": [
        "image1=load_img('download2.jpg',target_size=(224,224))\n",
        "image1=img_to_array(image1)\n",
        "image1=image1.reshape((1,image1.shape[0],image1.shape[1],image1.shape[2]))\n",
        "image1=preprocess_input(image1)\n",
        "model=VGG16()\n",
        "yhat=model.predict(image1)\n",
        "label=decode_predictions(yhat)\n",
        "label=label[0][0]\n",
        "print('%s' % (label[1]))"
      ],
      "metadata": {
        "colab": {
          "base_uri": "https://localhost:8080/"
        },
        "id": "OXXOSpF3w_fn",
        "outputId": "6a8945e4-c8cb-4f3b-ca9d-adba4f696d8f"
      },
      "execution_count": null,
      "outputs": [
        {
          "output_type": "stream",
          "name": "stdout",
          "text": [
            "1/1 [==============================] - 0s 259ms/step\n",
            "valley\n"
          ]
        }
      ]
    },
    {
      "cell_type": "code",
      "source": [
        "image3=load_img('download3.jpg',target_size=(224,224))\n",
        "image3=img_to_array(image3)\n",
        "image3=image3.reshape((1,image3.shape[0],image3.shape[1],image3.shape[2]))\n",
        "image3=preprocess_input(image3)\n",
        "model=VGG16()\n",
        "yhat=model.predict(image3)\n",
        "label=decode_predictions(yhat)\n",
        "label=label[0][0]\n",
        "print('%s'%(label[1]))\n"
      ],
      "metadata": {
        "colab": {
          "base_uri": "https://localhost:8080/"
        },
        "id": "ur6HF7sOx-PW",
        "outputId": "0b4bb34a-ca84-4e5a-e380-05df14b117d7"
      },
      "execution_count": null,
      "outputs": [
        {
          "output_type": "stream",
          "name": "stderr",
          "text": [
            "WARNING:tensorflow:6 out of the last 6 calls to <function Model.make_predict_function.<locals>.predict_function at 0x7d6f3043b010> triggered tf.function retracing. Tracing is expensive and the excessive number of tracings could be due to (1) creating @tf.function repeatedly in a loop, (2) passing tensors with different shapes, (3) passing Python objects instead of tensors. For (1), please define your @tf.function outside of the loop. For (2), @tf.function has reduce_retracing=True option that can avoid unnecessary retracing. For (3), please refer to https://www.tensorflow.org/guide/function#controlling_retracing and https://www.tensorflow.org/api_docs/python/tf/function for  more details.\n"
          ]
        },
        {
          "output_type": "stream",
          "name": "stdout",
          "text": [
            "1/1 [==============================] - 0s 253ms/step\n",
            "golden_retriever\n"
          ]
        }
      ]
    },
    {
      "cell_type": "code",
      "source": [],
      "metadata": {
        "id": "wLunpLCgy19u"
      },
      "execution_count": null,
      "outputs": []
    }
  ]
}